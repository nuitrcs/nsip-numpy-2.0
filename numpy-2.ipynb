{
 "cells": [
  {
   "cell_type": "markdown",
   "id": "51bee1f7-4f0f-44a2-ab37-7a4a080a2cdd",
   "metadata": {},
   "source": [
    "## Setup"
   ]
  },
  {
   "cell_type": "code",
   "execution_count": 127,
   "id": "e776c5ef-b399-41e0-95df-e4f6ded8c769",
   "metadata": {},
   "outputs": [
    {
     "name": "stdout",
     "output_type": "stream",
     "text": [
      "The autoreload extension is already loaded. To reload it, use:\n",
      "  %reload_ext autoreload\n"
     ]
    }
   ],
   "source": [
    "%load_ext autoreload\n",
    "%autoreload 2\n",
    "import warnings\n",
    "warnings.filterwarnings('ignore')"
   ]
  },
  {
   "cell_type": "code",
   "execution_count": 1,
   "id": "b1423c36-6c9e-4d3a-b34d-4d8a093d4b71",
   "metadata": {
    "execution": {
     "iopub.execute_input": "2024-09-30T14:38:22.392325Z",
     "iopub.status.busy": "2024-09-30T14:38:22.391954Z",
     "iopub.status.idle": "2024-09-30T14:38:22.463688Z",
     "shell.execute_reply": "2024-09-30T14:38:22.463215Z",
     "shell.execute_reply.started": "2024-09-30T14:38:22.392301Z"
    },
    "tags": []
   },
   "outputs": [],
   "source": [
    "# check your NumPy version\n",
    "import numpy as np"
   ]
  },
  {
   "cell_type": "code",
   "execution_count": 20,
   "id": "9eba88b4-a3d8-415b-aa9a-2866011815f3",
   "metadata": {
    "execution": {
     "iopub.execute_input": "2024-09-30T16:59:07.564255Z",
     "iopub.status.busy": "2024-09-30T16:59:07.563307Z",
     "iopub.status.idle": "2024-09-30T16:59:07.573217Z",
     "shell.execute_reply": "2024-09-30T16:59:07.572261Z",
     "shell.execute_reply.started": "2024-09-30T16:59:07.564198Z"
    },
    "tags": []
   },
   "outputs": [
    {
     "data": {
      "text/plain": [
       "'1.26.4'"
      ]
     },
     "execution_count": 20,
     "metadata": {},
     "output_type": "execute_result"
    }
   ],
   "source": [
    "np.__version__"
   ]
  },
  {
   "cell_type": "markdown",
   "id": "0038a3db-1a26-45d3-af11-277d975e3263",
   "metadata": {},
   "source": [
    "## NumPy 2.0 - why do we care?\n",
    "\n",
    "* First major release since 2006\n",
    "* Is not backwards compatible with previous numpy 1.x versions\n",
    "* will break your existing code if not careful"
   ]
  },
  {
   "cell_type": "markdown",
   "id": "a2c735df-2de7-490d-a25f-0d65c839906e",
   "metadata": {},
   "source": [
    "### How do package releases/updates work?\n",
    "* NumPy enhancement proposals (NEPs)\n",
    "* Let's explore them here - https://numpy.org/neps/\n",
    "* Release notes - https://numpy.org/devdocs/release/2.0.0-notes.html/"
   ]
  },
  {
   "cell_type": "markdown",
   "id": "15aecd21-9f79-40cc-80d1-c9fe76ac96c7",
   "metadata": {},
   "source": [
    "### What is backwards compatibility?\n",
    "* With the new update, stated in NEP 52, NumPy is breaking away from its usual stance of having backward compatibility to ensure a more streamlined API that's cleaner and simpler.\n",
    "* See NEP 52 at - https://numpy.org/neps/nep-0052-python-api-cleanup.html"
   ]
  },
  {
   "cell_type": "markdown",
   "id": "908e1a3e-de29-4c73-b015-08238790c353",
   "metadata": {},
   "source": [
    "## Major changes\n",
    "* API and ABI changes\n",
    "* New custom DTypes\n",
    "* Scalar promotion rules\n",
    "* Performance improvements"
   ]
  },
  {
   "cell_type": "markdown",
   "id": "7b514bee-1be7-4dc4-ab1d-9ce1a1f3fc26",
   "metadata": {},
   "source": [
    "### API and ABI changes\n",
    "\n",
    "In this update, there have been several cleanup changes made to the API and ABI (Application Binary Interface).\n",
    "Here are some notable changes:\n",
    "* __Public and private API split__: Using a module structure, the NumPy API for Python now has a clear split between public and private API.\n",
    "* __Namespace cleanup__: Functions have been simplified to make learning NumPy easier. See the full removal list for more info.\n",
    "* __Deprecating niche functionality__: Many of the non-recommended functions and aliases have been removed.\n",
    "* __New custom type__: For the C API, a new public API for creating custom DType was released."
   ]
  },
  {
   "cell_type": "markdown",
   "id": "a93a62bb-b84e-4dc9-a69f-b094ebbea5c0",
   "metadata": {},
   "source": [
    "__Public and private API split__ <br>\n",
    "`np.core` now becomes `np._core` to explicity denote it as private. <br>\n",
    "Learn more about private methods at https://www.datacamp.com/tutorial/python-private-methods-explained"
   ]
  },
  {
   "cell_type": "markdown",
   "id": "4f5f12a6-6af5-4d84-9a26-6f007c4011e1",
   "metadata": {},
   "source": [
    "__Namespace cleanup__<br>\n",
    "Functions have been simplified to make learning NumPy easier. See the full removal list for more info - https://numpy.org/devdocs/release/2.0.0-notes.html#numpy-2-0-python-api-removals"
   ]
  },
  {
   "cell_type": "markdown",
   "id": "22c1ab35-86bd-441d-9faf-0199c37a5b6e",
   "metadata": {},
   "source": [
    "* About 100 members of the main np namespace have been deprecated, removed, or moved to a new place. It was done to reduce clutter and establish only one way to access a given attribute. Some examples are - \n",
    "    * `Inf`, `Infinity`, `infty` all replaced by `np.inf`\n",
    "    * `row_stack` which was an alias for `vstack` now removed"
   ]
  },
  {
   "cell_type": "markdown",
   "id": "bca39c1a-5247-4011-8f07-a8e7b670304e",
   "metadata": {
    "execution": {
     "iopub.execute_input": "2024-09-30T16:26:15.601715Z",
     "iopub.status.busy": "2024-09-30T16:26:15.601053Z",
     "iopub.status.idle": "2024-09-30T16:26:15.609513Z",
     "shell.execute_reply": "2024-09-30T16:26:15.607767Z",
     "shell.execute_reply.started": "2024-09-30T16:26:15.601673Z"
    },
    "tags": []
   },
   "source": [
    "NEP 52 outlines the reasons for these changes - https://numpy.org/neps/nep-0052-python-api-cleanup.html"
   ]
  },
  {
   "cell_type": "markdown",
   "id": "8d693628-1bb2-493d-97ab-c7d693191c4c",
   "metadata": {},
   "source": [
    "__Deprecating niche functionality__<br>\n",
    "Some niche functions like `newbyteorder` were deprecated for being too niche"
   ]
  },
  {
   "cell_type": "markdown",
   "id": "bf115ffd-fe92-42ea-8a63-760b8c571553",
   "metadata": {},
   "source": [
    "__C API improvements__<br>\n",
    "* A new public C API for creating custom dtypes - https://numpy.org/devdocs/reference/c-api/array.html#dtype-api\n",
    "* Many outdated functions and macros removed, and private internals hidden to ease future extensibility\n",
    "* New, easier to use, initialization functions: `PyArray_ImportNumPyAPI` and `PyUFunc_ImportUFuncAPI`.\n",
    "* For the ABI changes, there will be a breakage with the new release. This will impact binaries of packages that use the NumPy C API.\n",
    "* Anyone who builds it against any previous NumPy 1.xx release will not work with NumPy 2.0. I'll share more on how things can be migrated according to their recommendation. You'll encounter an ImportError message, which indicates binary incompatibility."
   ]
  },
  {
   "cell_type": "markdown",
   "id": "9333fdf3-19ad-41c3-95c4-55089e0fc4d4",
   "metadata": {},
   "source": [
    "### Scalar promotion rules\n",
    "- value based promotion vs dtype based promotion rules\n",
    "- The main backward compatibility issue is the precision of your scalars."
   ]
  },
  {
   "cell_type": "code",
   "execution_count": 7,
   "id": "bc05893c-5769-45bd-8a9c-7e1f9f7fc30d",
   "metadata": {
    "execution": {
     "iopub.execute_input": "2024-09-30T16:39:47.851513Z",
     "iopub.status.busy": "2024-09-30T16:39:47.850628Z",
     "iopub.status.idle": "2024-09-30T16:39:47.860073Z",
     "shell.execute_reply": "2024-09-30T16:39:47.859335Z",
     "shell.execute_reply.started": "2024-09-30T16:39:47.851456Z"
    },
    "tags": []
   },
   "outputs": [
    {
     "data": {
      "text/plain": [
       "6.0"
      ]
     },
     "execution_count": 7,
     "metadata": {},
     "output_type": "execute_result"
    }
   ],
   "source": [
    "# promotion rules\n",
    "np.float32(6)"
   ]
  },
  {
   "cell_type": "code",
   "execution_count": 8,
   "id": "71717eda-eecb-4087-a4ed-ff55f4e56da2",
   "metadata": {
    "execution": {
     "iopub.execute_input": "2024-09-30T16:40:01.230705Z",
     "iopub.status.busy": "2024-09-30T16:40:01.230251Z",
     "iopub.status.idle": "2024-09-30T16:40:01.235509Z",
     "shell.execute_reply": "2024-09-30T16:40:01.234969Z",
     "shell.execute_reply.started": "2024-09-30T16:40:01.230679Z"
    },
    "tags": []
   },
   "outputs": [
    {
     "data": {
      "text/plain": [
       "dtype('float32')"
      ]
     },
     "execution_count": 8,
     "metadata": {},
     "output_type": "execute_result"
    }
   ],
   "source": [
    "np.result_type(np.float32(6))"
   ]
  },
  {
   "cell_type": "markdown",
   "id": "2d5363be-9528-40ef-89dc-664c62442844",
   "metadata": {},
   "source": [
    "What is float32 ? \n",
    "https://en.wikipedia.org/wiki/Single-precision_floating-point_format"
   ]
  },
  {
   "cell_type": "markdown",
   "id": "d851ded7-d3cc-4b11-b43f-4a5b721f39f3",
   "metadata": {},
   "source": [
    "The data-type is important because it limits the precision to which a number can be stored, and also determines how big of a number can be stored. <br>\n",
    "For example, an n-bit datatype can store 2^n large numbers."
   ]
  },
  {
   "cell_type": "code",
   "execution_count": 9,
   "id": "9b422440-3d6d-40f8-a934-ec4eb355c5de",
   "metadata": {
    "execution": {
     "iopub.execute_input": "2024-09-30T16:40:16.944566Z",
     "iopub.status.busy": "2024-09-30T16:40:16.943947Z",
     "iopub.status.idle": "2024-09-30T16:40:16.952643Z",
     "shell.execute_reply": "2024-09-30T16:40:16.951915Z",
     "shell.execute_reply.started": "2024-09-30T16:40:16.944531Z"
    },
    "tags": []
   },
   "outputs": [
    {
     "data": {
      "text/plain": [
       "dtype('float64')"
      ]
     },
     "execution_count": 9,
     "metadata": {},
     "output_type": "execute_result"
    }
   ],
   "source": [
    "np.result_type(np.float32(6) + 6)"
   ]
  },
  {
   "cell_type": "markdown",
   "id": "d7cfbe96-dfc0-43c6-ae3d-73b3c96c3b6b",
   "metadata": {},
   "source": [
    "The resulting output data-type got \"promoted\" from `float32` to `float64`. This is confusing and unexpected. Why did this happen?"
   ]
  },
  {
   "cell_type": "code",
   "execution_count": 11,
   "id": "d5fefa42-d1ec-4dfe-876a-b30edf1fa159",
   "metadata": {
    "execution": {
     "iopub.execute_input": "2024-09-30T16:48:23.777862Z",
     "iopub.status.busy": "2024-09-30T16:48:23.777231Z",
     "iopub.status.idle": "2024-09-30T16:48:23.786034Z",
     "shell.execute_reply": "2024-09-30T16:48:23.784814Z",
     "shell.execute_reply.started": "2024-09-30T16:48:23.777826Z"
    },
    "tags": []
   },
   "outputs": [
    {
     "data": {
      "text/plain": [
       "dtype('int64')"
      ]
     },
     "execution_count": 11,
     "metadata": {},
     "output_type": "execute_result"
    }
   ],
   "source": [
    "np.result_type(6)"
   ]
  },
  {
   "cell_type": "markdown",
   "id": "c6137d4a-cb66-4ce0-af20-4970ba22fa92",
   "metadata": {},
   "source": [
    "1. what happens when you combine dissimilar data types\n",
    "2. The largest backwards compatibility change is that the precision of scalars is now preserved consistently.  Two examples are:\n",
    "\t1. `np.float32(3) + 3.` now returns a `float32` when it previously returned a `float64`.\n",
    "\t2. `np.array([3], dtype=np.float32) + np.float64(3)` will now return a `float64` array.  (The higher precision of the scalar is not ignored.)"
   ]
  },
  {
   "cell_type": "markdown",
   "id": "a50ef8ad-5696-4f80-a8bc-daf5674ff26b",
   "metadata": {
    "tags": []
   },
   "source": [
    "__Old rule - values based casting__ <br>\n",
    "Since NumPy 1.7, promotion rules use so-called “safe casting” which relies on inspection of the values involved. This helped identify a number of edge cases for users, but was complex to implement and also made behavior hard to predict.\n",
    "\n",
    "__New rule - promotion rules based casting__ <br>\n",
    "https://numpy.org/neps/nep-0050-scalar-promotion.html#schema-of-the-new-proposed-promotion-rules"
   ]
  },
  {
   "cell_type": "markdown",
   "id": "2d076fb0-106d-418c-beab-ce68c3a827c2",
   "metadata": {},
   "source": [
    "### New DType API and String DType"
   ]
  },
  {
   "cell_type": "markdown",
   "id": "cd08d6fb-fa57-480c-8ba4-5c4ffe6880ee",
   "metadata": {},
   "source": [
    "As proposed in NEP 41, this 2.0 update releases a new API for implementing user-defined custom data types using the StringDType data type. This new API includes native support for variable-length string data types, which NumPy users have long requested.\n",
    "\n",
    "* What are DTypes - \n",
    "https://numpy.org/devdocs/reference/arrays.dtypes.html#arrays-dtypes\n",
    "* DTypes in NumPy - \n",
    "https://numpy.org/devdocs/reference/routines.dtypes.html#numpy.dtypes.StringDType\n",
    "* NEP 41 user impact - https://numpy.org/neps/nep-0041-improved-dtype-support.html#user-impact"
   ]
  },
  {
   "cell_type": "markdown",
   "id": "53defe0a-e289-4242-90d4-db58ee837f6b",
   "metadata": {},
   "source": [
    "Some examples of impact of custom DTypes-\n",
    "* bfloat16, used in deep learning ( https://en.wikipedia.org/wiki/Bfloat16_floating-point_format)\n",
    "* categorical types\n",
    "* physical units (such as meters)"
   ]
  },
  {
   "cell_type": "markdown",
   "id": "d24dc6c0-edcf-412a-836b-7a6332d59d92",
   "metadata": {
    "tags": []
   },
   "source": [
    "### Performance improvements\n",
    "* Faster sorting functions\n",
    "* Improvements to linear algebra operations performance on macOS through macOS Accelerate\n",
    "* To better suit Windows users, the NumPy team has also fixed several compatibility issues with the new release. For example, they have changed the default integer type on Windows to int64 rather than int32, to match the default behavior on other OS platforms."
   ]
  },
  {
   "cell_type": "markdown",
   "id": "efe20a5e-16bc-412d-91b8-e2871876d20e",
   "metadata": {
    "tags": []
   },
   "source": [
    "## Migrating to NumPy 2.0"
   ]
  },
  {
   "cell_type": "markdown",
   "id": "c7e708a6-30e1-4755-bffb-469fcb6714d3",
   "metadata": {},
   "source": [
    "First off, to get started with this new version of NumPy, you’ll need to upgrade it from your current version to the latest.\n",
    "\n",
    "To do this, simply use the the upgrade option in this command:"
   ]
  },
  {
   "cell_type": "markdown",
   "id": "8284083d-2310-4e4e-bc89-d63b9c6fd03a",
   "metadata": {
    "execution": {
     "iopub.execute_input": "2024-09-30T16:55:02.754424Z",
     "iopub.status.busy": "2024-09-30T16:55:02.753766Z",
     "iopub.status.idle": "2024-09-30T16:55:06.912788Z",
     "shell.execute_reply": "2024-09-30T16:55:06.911973Z",
     "shell.execute_reply.started": "2024-09-30T16:55:02.754392Z"
    },
    "tags": []
   },
   "source": [
    "`pip install -U numpy`"
   ]
  },
  {
   "cell_type": "markdown",
   "id": "1c563637-ecd2-48e9-83be-0387059bfb8f",
   "metadata": {},
   "source": [
    "* Addressing NumPy data type promotion changes\n",
    "    - For a full guide on how on the several change behaviors and expected data type changes, refer to this table in NEP 50.\n",
    "* Addressing namespace changes\n",
    "    - Check for deprecated aliases and migration guidelines.\n",
    "    - Replace deprecated aliases with a backward-compatible alternative.\n",
    "    - Check for private members that were removed in the 2.0 update.\n",
    "    - Use the existing API if private members were used."
   ]
  },
  {
   "cell_type": "markdown",
   "id": "733428e3-9ca1-45c3-8227-6fbd9abcf2a7",
   "metadata": {},
   "source": [
    "__Ruff plugin to update Python code__\n",
    "To help you through your migration process, you can use the Ruff plugin with a dedicated Ruff rule, NPY201.\n",
    "- Ruff plugin - https://numpy.org/devdocs/numpy_2_0_migration_guide.html#ruff-plugin\n",
    "- Rule NPY201 - https://docs.astral.sh/ruff/rules/numpy2-deprecation/\n",
    "\n",
    "Ruff is available as ruff on PyPI. \n",
    "\n",
    "To install Ruff, enter this in the command line:\n",
    "`pip install ruff`\n",
    "\n",
    "Make sure to specify the NP201 rule to your pyproject.toml\n",
    "`[tool.ruff.lint]\n",
    "select = [\"NPY201\"]`\n",
    "\n",
    "\n",
    "Alternatively, you can also specify the NPY201 rule using the command line:\n",
    "`$ ruff check path/to/code/ --select NPY201`"
   ]
  },
  {
   "cell_type": "code",
   "execution_count": null,
   "id": "4d1f72fa-8124-4a0f-84c6-d551dc110cdd",
   "metadata": {},
   "outputs": [],
   "source": []
  }
 ],
 "metadata": {
  "kernelspec": {
   "display_name": "Python 3 (ipykernel)",
   "language": "python",
   "name": "python3"
  },
  "language_info": {
   "codemirror_mode": {
    "name": "ipython",
    "version": 3
   },
   "file_extension": ".py",
   "mimetype": "text/x-python",
   "name": "python",
   "nbconvert_exporter": "python",
   "pygments_lexer": "ipython3",
   "version": "3.10.13"
  }
 },
 "nbformat": 4,
 "nbformat_minor": 5
}
